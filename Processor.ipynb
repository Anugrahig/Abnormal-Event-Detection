{
 "cells": [
  {
   "cell_type": "code",
   "execution_count": 6,
   "metadata": {},
   "outputs": [],
   "source": [
    "import os \n",
    "import numpy as np\n",
    "import cv2\n",
    "from glob import glob\n",
    "from keras.preprocessing.image import img_to_array,load_img\n",
    "\n"
   ]
  },
  {
   "cell_type": "code",
   "execution_count": 7,
   "metadata": {},
   "outputs": [],
   "source": [
    "store_image=[]\n",
    "def create_dir(path):\n",
    "    try:\n",
    "        if not os.path.exists(path): \n",
    "            os.makedirs(path)\n",
    "    except OSError:\n",
    "        \n",
    "        print(f\"ERROR: creating directory with name {path}\")\n",
    "\n",
    "def save_frame(video_path, save_dir):\n",
    "    name = video_path.split(\"/\")[-1].split(\".\")[0]\n",
    "    save_path = os.path.join(save_dir, name)\n",
    "    create_dir(save_path)\n",
    "    \n",
    "\n",
    "    cap = cv2.VideoCapture(video_path)\n",
    "    count= 0\n",
    "\n",
    "    while True:\n",
    "        ret, frame = cap.read()\n",
    "\n",
    "        if ret == False:\n",
    "            cap.release()\n",
    "            break\n",
    "\n",
    "        if count%2 == 0:\n",
    "            \n",
    "            \n",
    "            gray = cv2.resize(frame, (227, 227)) #resizing images\n",
    "            gray1 = cv2.cvtColor(gray,cv2.COLOR_BGR2GRAY) #convert images to GRAY\n",
    "            store_image.append(gray1) \n",
    "            cv2.imwrite(f\"{save_path}/{count}.jpg\",gray1)\n",
    "        else:\n",
    "            if count % 2 == 0:\n",
    "                \n",
    "                gray = cv2.resize(frame, (227, 227)) #resizing images\n",
    "                gray1 = cv2.cvtColor(gray,cv2.COLOR_BGR2GRAY) #convert images to GRAY\n",
    "                store_image.append(gray1)\n",
    "                cv2.imwrite(f\"{save_path}/{count}.jpg\", gray1)\n",
    "\n",
    "        count += 1\n",
    "        \n",
    "        \n",
    "\n",
    "\n",
    "if __name__ == \"__main__\":\n",
    "    video_paths = glob(\"video/*\")\n",
    "    save_dir = \"save\"\n",
    "\n",
    "    for path in video_paths:\n",
    "        save_frame(path,save_dir)\n",
    "        \n",
    "store_image=np.array(store_image)\n",
    "a,b,c=store_image.shape\n",
    "store_image.resize(b,c,a)\n",
    "store_image=(store_image-store_image.mean())/(store_image.std())\n",
    "store_image=np.clip(store_image,0,1)\n",
    "np.save('training.npy',store_image)\n"
   ]
  },
  {
   "cell_type": "code",
   "execution_count": 5,
   "metadata": {},
   "outputs": [
    {
     "name": "stdout",
     "output_type": "stream",
     "text": [
      "(227, 227, 305)\n"
     ]
    }
   ],
   "source": [
    "print( store_image.shape)"
   ]
  },
  {
   "cell_type": "code",
   "execution_count": null,
   "metadata": {},
   "outputs": [],
   "source": []
  }
 ],
 "metadata": {
  "kernelspec": {
   "display_name": "Python 3",
   "language": "python",
   "name": "python3"
  },
  "language_info": {
   "codemirror_mode": {
    "name": "ipython",
    "version": 3
   },
   "file_extension": ".py",
   "mimetype": "text/x-python",
   "name": "python",
   "nbconvert_exporter": "python",
   "pygments_lexer": "ipython3",
   "version": "3.8.5"
  }
 },
 "nbformat": 4,
 "nbformat_minor": 4
}
